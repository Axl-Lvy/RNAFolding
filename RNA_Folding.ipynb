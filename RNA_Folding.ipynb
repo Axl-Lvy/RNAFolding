{
 "cells": [
  {
   "cell_type": "markdown",
   "metadata": {},
   "source": [
    "# RNA Folding\n",
    "\n",
    "This notebook is fully executable, without the need of adjusting parameters."
   ]
  },
  {
   "cell_type": "markdown",
   "metadata": {},
   "source": [
    "### Imports\n",
    "\n",
    "To use this notebook you need:\n",
    "\n",
    "-numpy\n",
    "\n",
    "-ViennaRNA\n",
    "\n",
    "-Nussinov.py"
   ]
  },
  {
   "cell_type": "code",
   "execution_count": 7,
   "metadata": {},
   "outputs": [
    {
     "name": "stdout",
     "output_type": "stream",
     "text": [
      "Done\n"
     ]
    }
   ],
   "source": [
    "import numpy as np\n",
    "import RNA\n",
    "import Nussinov\n",
    "from importlib import reload\n",
    "import tracemalloc\n",
    "import time\n",
    "import matplotlib.pyplot as plt\n",
    "reload(Nussinov)\n",
    "print(\"Done\")"
   ]
  },
  {
   "cell_type": "markdown",
   "metadata": {},
   "source": [
    "## Nussinov algorithm for one sequence\n",
    "\n",
    "This methods execute the Nussinov algorithm for one sequence"
   ]
  },
  {
   "cell_type": "markdown",
   "metadata": {},
   "source": [
    "### A very small sequence to verify the algorithm"
   ]
  },
  {
   "cell_type": "code",
   "execution_count": 8,
   "metadata": {},
   "outputs": [
    {
     "name": "stdout",
     "output_type": "stream",
     "text": [
      "((..).).\n",
      "Time to compute the matrix: 0.00139 s\n",
      "Time to compute traceback:  0.00038 s\n",
      "Memory used to compute the matrix: 12.4082 kb\n",
      "Memory used to compute traceback:  14.47266 kb\n"
     ]
    }
   ],
   "source": [
    "seq = \"GCACGACG\"\n",
    "computation = Nussinov.Simple_Nussinov(seq, m=2)\n",
    "tracemalloc.start()\n",
    "i = time.process_time()\n",
    "computation.Compute()\n",
    "t_matrix = time.process_time()-i\n",
    "m_matrix = tracemalloc.get_traced_memory()[1]\n",
    "tracemalloc.clear_traces()\n",
    "i = time.process_time()\n",
    "computation.Compute_Traceback()\n",
    "t_traceback = time.process_time()-i\n",
    "m_traceback = tracemalloc.get_traced_memory()[1]\n",
    "tracemalloc.stop()\n",
    "print(computation.structure)\n",
    "print(f\"Time to compute the matrix: {round(t_matrix, 5)} s\")\n",
    "print(f\"Time to compute traceback:  {round(t_traceback, 5)} s\")\n",
    "print(f\"Memory used to compute the matrix: {round(m_matrix/(2**10),5)} kb\")\n",
    "print(f\"Memory used to compute traceback:  {round(m_traceback/2**10,5)} kb\")"
   ]
  },
  {
   "cell_type": "markdown",
   "metadata": {},
   "source": [
    "### Ploting memory and time consumption in function of the sequence's size"
   ]
  },
  {
   "cell_type": "code",
   "execution_count": 9,
   "metadata": {},
   "outputs": [
    {
     "data": {
      "image/png": "[encoded data removed]",
      "text/plain": [
       "<Figure size 432x288 with 1 Axes>"
      ]
     },
     "metadata": {
      "needs_background": "light"
     },
     "output_type": "display_data"
    },
    {
     "data": {
      "image/png": "[encoded data removed]",
      "text/plain": [
       "<Figure size 432x288 with 1 Axes>"
      ]
     },
     "metadata": {
      "needs_background": "light"
     },
     "output_type": "display_data"
    }
   ],
   "source": [
    "pattern = \"GCACGACG\"\n",
    "seqs = [pattern*i for i in range(1,15)]\n",
    "sizes = [len(pattern)*i for i in range(1,15)]\n",
    "results = []\n",
    "computation_list = [Nussinov.Simple_Nussinov(s, m=2) for s in seqs]\n",
    "memorys = []\n",
    "times = []\n",
    "tracemalloc.start()\n",
    "for c in computation_list:\n",
    "    tracemalloc.clear_traces()\n",
    "    t = time.process_time()\n",
    "    c.Compute(print_loading=False)\n",
    "    c.Compute_Traceback()\n",
    "    results.append(c.structure)\n",
    "    times.append(time.process_time()-t)\n",
    "    memorys.append(tracemalloc.get_traced_memory()[1])\n",
    "plt.figure(0)\n",
    "plt.plot(sizes, times)\n",
    "plt.figure(1)\n",
    "plt.plot(sizes, memorys)\n",
    "plt.show()"
   ]
  },
  {
   "cell_type": "markdown",
   "metadata": {},
   "source": [
    "## Nussinov variant for a bunch of sequences"
   ]
  },
  {
   "cell_type": "markdown",
   "metadata": {},
   "source": [
    "### Testing on sequences of small sizes"
   ]
  },
  {
   "cell_type": "code",
   "execution_count": 6,
   "metadata": {},
   "outputs": [
    {
     "name": "stdout",
     "output_type": "stream",
     "text": [
      "Nussinov pour chaque alignement :\n",
      "(((...)))\n",
      "((.(...)))\n",
      "((((...))))\n",
      "---------------\n",
      ".((((...))))\n",
      "Time to compute ACC : 0.0011s\n",
      "Memory used for ACC : 11.22949kb\n",
      "Time to compute matrix : 0.00273s\n",
      "Memory used for matrix : 11.22949kb\n",
      "Time to compute traceback : 3.83253s\n",
      "Memory used for traceback : 17.21875kb\n"
     ]
    }
   ],
   "source": [
    "alignment = [\"GC-C-AAA-GGC\",\n",
    "             \"GGGC-AUU-GCC\",\n",
    "             \"AC-GGAAUCCGU\"]\n",
    "\n",
    "print(\"Nussinov pour chaque alignement :\")\n",
    "computation_list = [Nussinov.Simple_Nussinov(seq, m=2) for seq in alignment]\n",
    "for i, n in enumerate(computation_list):\n",
    "    n.Compute()\n",
    "    n.Compute_Traceback()\n",
    "structures = [n.structure for n in computation_list]\n",
    "for i in structures:\n",
    "    print(i)\n",
    "print(\"---------------\")\n",
    "computation_acc = Nussinov.Multiple_Nussinov(alignment, structures, m=2, method='MEA')\n",
    "tracemalloc.start()\n",
    "tracemalloc.clear_traces()\n",
    "t1 = time.process_time()\n",
    "computation_acc.ACC_Compute()\n",
    "t1 = time.process_time()-t1\n",
    "m1 = tracemalloc.get_traced_memory()[1]\n",
    "tracemalloc.clear_traces()\n",
    "t2 = time.process_time()\n",
    "computation_acc.Compute_Nussinov_ACC()\n",
    "t2 = time.process_time()-t2\n",
    "m2 = tracemalloc.get_traced_memory()[1]\n",
    "tracemalloc.clear_traces()\n",
    "t3 = time.process_time()\n",
    "computation_acc.Compute_Traceback()\n",
    "t3 = time.process_time()-t2\n",
    "m3 = tracemalloc.get_traced_memory()[1]\n",
    "tracemalloc.stop()\n",
    "print(computation_acc.structure)\n",
    "for s, t, m in [('ACC', t1, m1), ('matrix', t2, m2), ('traceback', t3, m3)]:\n",
    "    print(f\"Time to compute {s} : {round(t, 5)}s\")\n",
    "    print(f\"Memory used for {s} : {round(m/1024, 5)}kb\")"
   ]
  },
  {
   "cell_type": "markdown",
   "metadata": {},
   "source": [
    "### Testing on a way much larger bunch of sequences"
   ]
  },
  {
   "cell_type": "code",
   "execution_count": 109,
   "metadata": {},
   "outputs": [],
   "source": [
    "# Extraction of the sequences from RF00100.stockholm.txt\n",
    "alignment = []\n",
    "with open(\"data/RF00100.stockholm.txt\", 'r') as file:\n",
    "    file.readline(); file.readline()\n",
    "    while file.readline()[0]=='#':\n",
    "        pass\n",
    "    file.readline()\n",
    "    test, seq = file.readline().split(' ', 1)\n",
    "    while test[0]!='#':\n",
    "        while seq[0] == ' ':\n",
    "            seq = seq[1:]\n",
    "        alignment.append(seq.replace('\\n', ''))\n",
    "        test, seq = file.readline().split(' ', 1)\n",
    "    cons = seq.split(' ', 1)[1].replace('<', '(').replace('>', ')').replace(',', '.').replace('_', '-')\n",
    "    while cons[0] == ' ':\n",
    "        cons = cons[1:]\n",
    "with open(\"data/bunch_of_sequences.txt\", 'w+') as file:\n",
    "    for a in alignment:\n",
    "        file.write(a + '\\n')\n",
    "    file.write(cons)"
   ]
  },
  {
   "cell_type": "markdown",
   "metadata": {},
   "source": [
    "#### /!\\ WARNING /!\\\n",
    "\n",
    "The cell below is very long to execute"
   ]
  },
  {
   "cell_type": "code",
   "execution_count": 113,
   "metadata": {},
   "outputs": [
    {
     "name": "stdout",
     "output_type": "stream",
     "text": [
      "Nussinov pour chaque alignement :\n",
      ".((((.(((..)(..)((((..(((((..))(((((((((..)).)...)))).))).))))((.(((((.((.(((((.((.(..)))..)))((((.((.(((((((.((((((((((((((.((.(..)))))))..)).).)))))((((((...))).((..((.((..))))))))))))(((.((((..)))((...)))))).))(((((...))(((((..).(((..))(..))))))))))))..))))))).)).))(((((..))).)))))))))))))))((.(.(.(((((((..)).))).).))))))).\n",
      "((((((((((((((((.(....)))((..))))(((((((..)(((((..)((..)..)).).)))(((.(..)).))).))))).))).)((((((((.((.(((((((.((((((((((((((.((.(..)))))))..)).).)))))((((((...)).)(((((((..)))).).))))))))((((..))((.(((...)))))))))(((((...))(((((..)((..))(..).))))))))))..))))))).))(((.((((..))).))).))))))))))(((..((((((((((..)).))))..))))..))).\n",
      "(((((((...)(.(((((.(((((((..))))(((((((..))((((..))(((.(((((((((..)(((.((.((((.(((.(..)))..)).)..).))))).))).)(.((((((((((((.((.(..)))))))..)).).))))))))(((...)))((((((.((((((..)((.(..)))))((..)((((...)).))))))))).)))))))((((((((..).(((..))(..)))).).)))))))).))))).).))(((((..))).))))))))))))))(((.(((((((((((..)).))).).))))..))))\n",
      "(((((((((((((..).)(.(((((..)).).)))))(.((((.(((.((((..((..(((((.((((((.((.(((((.((....)))))((((((((((((((.(((.(((.(..))((..))).))).).))..))).)).).))((((..(..))).)))).))))))))((((...))))).)).))(((..)))))..)).))))))))(((..)(.((((((..).))((..)..)).)))))))))))))).)((..))))(((((((..)..))))((((((((..)).))).).)))))))...\n",
      "(((((((((((((((((((.((((((((((((((((..((..))))).(.(..))).))(..))).)).)).).))))).).))))(.(..))).)..))))(..)).((..)((((.(((.((((.((((((((((((((.((..((((...))).))))))))(..))).))((((...)..))).))(..)))((((((.(((.(((((..((..))).))))).)))))).))))))).).)))))((((((..))((((..))).))))))))))))(((((..))).(((((((((..)).))))..))).))...\n",
      "(((((((((((.((.(.((.(((((..)).).))))((((..))(((((((.(..)..)..)).).(((.(..)).))))))).)))))))((.((((((.(((((..)((((((((((((((.(((..).)))))).)..)).))))..).)((((.((((.((((.(.(.(((..)))))).)))).))))).)(((((...))(((((..)((..))(..).)))))))))))).)).))))(((((..)((..).))))).))))))))))((((.((((((((((..)).))).).))).)).)))\n",
      "((((((.((((((((..)(((...).).)))).).))(((.((.((((((((..))))(.(((.(.(.(((((((((((((.(((((((..)(((((.(...).)(((..)))))((.(((((((((((.(((..).))))))..))).))))))).)))(.((((((.((((((.((.(..)))).(((..).)))))(..)((..)).)))))).))))))))).).))))).))(..)))))).))))..))))))).))))(((..))))(((((.(..))).))).))))((((((((...)).)))((((..).)))..)))\n",
      "(((((((((.((((((((..))))(((((..))((.((((..)..)))))).).((((.((..)(((.((((((....)).).))))).)))))(((..).))))).))))))(((..)))))))(((..))(((((((..))(((((((..).)..).).))))((((((.(...)))))((((((..(..)(((((((((...).).)))(((((.((...))))((((..).))..)).))))((..)))((..))).).).)))))).))((((((((..)).))))..)))))))...\n",
      "(((((((((..)..))(((.(((((..)).).))))(((..(((((((..)((..)..)).).)))))))((((..(((.(((...))))(.(((((((.((.(.((((..)).)((((((..)((((.(..))))(((((((.(..))((((.((((..)))((...)))))(..))))))(..)))((((..).(((..))(..)))))))))).)))))))))).))(..))(((..))))))))))).))))))(((.(((((((((((..)).))).).))))..))))\n",
      "((((((((((.((.(..).)((((((..))))(((((((..)(((((..)((..)..)).).)))(((.(..)).))).))))).)))))((((((((.((.(((((((.((((((((((((((.((.(..)))))))..)).).)))))((((((...))).((..((.((..))))))))))))(((.((((..)))((...)))))).))(((((...))(((((..).(((..))(..))))))))))))..))))))).))(((.((((..))).))).))))))))))(((.(((((((((((..)).))).).))))..))))\n",
      "(((((((((..)..))(((.(((((..)).).))))(((..(((((((..)((..)..)).).)))))))((((..(((.(((...))))(.(((((((.((.((((((((.(((((((((((((.((.(..)))))))..)).).)))))((((((...)))(.(((.(((((..)))((.(((((((((.((((..)))((...))))).))..).))(..))))).(..))))))).)))))))(..)))))..))))))).))(..))(((..))))))))))).))))))(((.(((.(((((((..)).))).).)))..)))).\n",
      "(((((((((..)..)((((((((((((..))(((((((((..)).)...)))).))).)).)(((..)(((((.(((((.(((...))))))((((((((((..)..))))(((((((((.(((..)(((..)).).)))..))))(((..)((.((((.(.(((((((...)).))))(((((((..).))(.((.(..)))))(((...))))))..))))((((..).)).))))))))))).))))))).)).)).))))).)..))).)))).))(((.(((..((((((..)).))))))))..)))...\n",
      "(((((((((..)..)((((.(((((((..))))((((((..(((((((..)((..)..)).).))))))((..))((((.(((...))))(((.(((.(.((.(((((.(((.((((((((((((.((.(..)))))))..)).).)))))))((((...))).))))))((..((((((.(..))((((.((((..)))((...)))))(..)))))).)))))((((..).(((..))(..))))))))))))))).)))))).).))(((((..))).)))))).)))))))(((.(((((((((((..)).))).).))))..))))\n",
      "(((((((((((((...)(..)).))).)))(..).)(((((...)(((.(.((((((.((..)))(.(((((.(((((((((((((.(.(.(((.(((((..)((..))))((((((((((((..((((((..)).)).)))).))).)((((....).).)))).))((..)))))))))))))).((((..)))...))))))(((((.((...))))..)))).)))(((...)))).)..))))).))).))))))))))).).))(((..(((((((((.(..)))))))..)))))).\n",
      "(((((((((..)..))(((.(((((..)).).))))(((..(((((((..)((..)..)).).)))))))((((..(((.(((...))))(.(((((((.((.(((((((.((((((((((((((.((.(..)))))))..)).).)))))(((((((..)((..))))(.((..))))..))))))(((.((((..)))((...)))))).))(((((...))(((((..).(((..))(..))))))))))))..))))))).))(..))(((..))))))))))).))))))(((.(((((((((((..)).))).).))))..))))\n",
      "(((((((((..)..)((((.(((((((..))))((((((..(((((((..)((..)..)).).))))))((..))((((.(((...))))(((((((((((((((((((((.(((((((((((((.((.(..)))))))..)).).))))).))(.(...)))).).)).)(((..)))..)))).))))((..)))))((((...)))(((..).((((...))(((((..).(((..))(..))))))))))))))).)))))).).))(((((..))).)))))).)))))))(((.(((((((((((..)).))).).))))..))))\n",
      "(((((((((..)..)((((.(((((((..))))((((((..(((((((..)((..)..)).).))))))((..))((((.(((...))))(((.(((.(.((.(((((.(((.((((((((((((.((.(..)))))))..)).).)))))))((((...)).)))))))((..((((((.(..))((((.((((..)))((...)))))(..)))))).)))))((((..).(((..))(..))))))))))))))).)))))).).))(((((..))).)))))).)))))))(((.(((((((((((..)).))).).))))..))))\n",
      "(((((((((..)..)((((.(((((((..))))((((((..(((((((..)((..)..)).).))))))((..))((((.(((...))))(((.(((.(.((.(((..)(((.((((((((((((.((.(..)))))))..)).).)))))))((((...)).))))((((..)((((((.(..))((((.((((..)))((...)))))(..))))))))))))((((..).(((..))(..))))))))))))))).)))))).).))(((((..))).)))))).)))))))(((.(((((((((((..)).))).).))))..))))\n",
      "(((((((((..)..))((((.((((..)).).))))(((..(((((((..)((..)..)).).)))))))((((..(((.(((...))))(.(((((((.((.(((((((.((((((((((((((.((.(..)))))))..)).).)))))(((((((..)((..))))(.((..))))..))))))(((.((((..)))((...)))))).))(((((...))(((((..).(((..))(..))))))))))))..))))))).))(..))(((..))))))))))).))))))(((.(((((((((((..)).))).).))))..))))\n",
      "(((((((((..)..))(((.(((((..)).).))))(((..(((((((..)((..)..)).).)))))))((((..(((.(((...))))(.(((((((.((.(((((((.((((((((((((((.((.(..)))))))..)).).)))))(((((((..)((..))))(.((..))))..))))))(((.((((..)))((...)))))).))(((((...))(((((..).(((..))(..))))))))))))..))))))).))(..))(((..))))))))))).))))))(((..((((((((((..)).))).).)))))).)..\n",
      "(((((((((..)..)((((.(((((((..))))((((((..(((((((..)((..)..)).).))))))((..))((((.(((...))))(((((((((((((((((((((.(((((((((((((.((.(..)))))))..)).).))))).))(.(...)))).).)).)(((..)))..)))).))))((..)))))((((...)))(((..).((((...))(((((..).(((..))(..))))))))))))))).)))))).).))(((((..))).)))))).)))))))(((.(((((((((((..)).))).).))))..))))\n",
      "(((((((((..)..))(((.(((((..)).).))))(((..(((((((..)((..)..)).).)))))))((((..(((.(((...))))(.(((((((.((.((((((((.(((((((((((((.((.(..)))))))..)).).)))))(((((((..)((..))))((((..)))(((..)((.(((((((((.((((..)))((...)))))).)..).))(..)))))).)((..)))).)))))))(...)))))..))))))).))(..))(((..))))))))))).))))))(((.(((((((((((..)).))).).)))).).)))\n",
      "(((((((((..)..))(((.(((((..)).).))))(((..(((((((..)((..)..)).).)))))))((((..(((.(((...))))(.(((((((.((.(((((((.((((((((((((((.((.(..)))))))..)).).)))))((((((...)).)((((((.(..).))))))))))))(((.((((..)))((...)))))).))(((((...))(((((..)(((..))(..))))))))))))..))))))).))(..))(((..))))))))))).))))))(((.(((((((((((..)).))).).))))..))))\n",
      "(((((((((..)..)((((.(((((((..))))((((((..(((((((..)((..)..)).).))))))((..))((((.(((...))))(((.(((.(((((.((..)(((.((((((((((((.((.(..)))))))..)).).)))))))((((...)).))))).))(..((((((.(..))((((.((((..)))((...)))))(..))))))))(((..)((..))(..))))).)))))))).)))))).).))(((((..))).)))))).)))))))(((.(((((((((((..)).))).).)))).).)))\n",
      "(((((((((((((..).)(.(((((..)).).)))))).)(((.(((((..)(.((((((((..((.(((.(..)).))(.(((...))))).)).)(((.((.((((((.(.(.(((((((((((.(((..).)))))).)..)).))))(((((((((...)).))((.(((((..)).)))))))(.(((..))))))))).))(((((...))(((((..)((..))(..).))))))))))...))))))))(..)))..)).))))))))..)))))))(((.(((((((((((..)).))).).)))).).)))\n",
      "(((.(.(((..)((.(((.((((((((..))))((((((((((((.(..))(((..(((..((.((.(((((((((.((.(((...))))(((((((((((((((.(((.(((.(..)(((..)).)))))).)).)))))..)).))).))((((....(((((.((((((((((..)).)))((((..)))..).)).))))).))).))(..)).))))).)).)).).))))))))).))))((.((((..))(((((..).)))))...)))))).)).)).)).).))))(..)))))))).))).))...\n",
      "(((.(.((((((((((.(.((((((((..))))(((((((..)).)..))).).)...)))).))))((((..)))))(((..)).))))).)))))(((((((((.((.((..)))(.(..))))).)).))).(((..)))))(((((((((..((((((((((((((((((..)))((((((((((((((..).)(.(((...)))))))).)..)).)))..)).))...))))(((.(((((.(((.((((...).))).))))).))).)))))((..).))).)))))).)).))).))).\n",
      "(((.(.(.(((((..(((.(((.((..))))((((((((((((..)).))..)((((.((..))))))).))).))))))).)))))))))((.(((((.(((((((((((((((((.(...))))).)))))..)))(..)).)(((((..))).)))).(..))))))((((((((((((..)(((.(..)((..((..)))).))))))..)))))((((((((((..))).)(((((.((....)))))))))((((.(((((((.(((.(.(..))))..)))))))))).)(.((..)))))))))..)))).))\n",
      "(((.(.(((((.((.(..)(.((((((..)))))((((..(.(..(((((((..(((.(....))))))).)))))))).)))))))))).)))))((((((((.(((((..)))(((((((((((((((.((((((.(((..(.((((..)..)))))))).)))((((((..)))((((.(.(.(((.((((..)))((...)))))).)))..))).)))))).)).))).))).))(..).))(((...))))(((..(((((((((..))).)).))..)))))).).))))))).))\n",
      "(..((((((((((((((((..((((((..)))))))).)..))).(((..))(((((.(....))))((((((((((((.((..(..)))).).((((((((((((((.(((.(((((.(((.((...)((..))).)((..)))))))))))(((....).).)))))))((..))....))).))))).))).(((.((.(..)))).)).)))))(...)))))))).)))))))(.((.(((.(((.((.(..(((((((((.((..)))))).)).(..)))))))))))((.((..))))))))))))\n",
      "(((.((((((((((.((((...))).(..)))))))((((..)(((((..))).)))..))))((.(.((((.(((((((..)...)))(((((((((((((.(..).))(.(((..)(((((((.((.(..)))))..)))).))(((((..)))))))))..).)))))(((..(((..))(..)))..)))))))))))..)).)))(((...))))).)))((((..).(((..(((..)).(((((((.(.((((((..)(....)))).)))(((..))))).))))))))))))\n",
      "(((.(.(((((.((((.((..((((((..))))))))(((..))((((((..(..).))))(.(((..)((..))))).)))).))))))))).)))((((.((..).)))(((.(((((..)(((((.(.(((..).))))((.((((((..)))(((((..)).)).)).)).))))))))((..)(((..)))(((((((((((((..))))((((...))).)))).)))((..)).)))))))((((((.((.(.(((..).))))))))(((((.((..))).)))))(..))))))).\n",
      "(((..)(((((((..).).)(((((..)).).)))))))(((((((((..)).))))(((((((..)(((..))))).)(((...))))((((((((((((.(((..).)))))((((((..))((.((((.(.(((..)))(((((....)).))))).(((((((.(..)).))))((((((((((((..).(((((..)..))))))))..).))(..))))))))..)(((..)))))).)))).))).))).)))))(.(((...))))))(((((.(((...).)))).)((((((..))..))))))))....\n",
      "(((((.(((((((..).).)(((((((..))))))((((..(((((((..))).))).(((((((((((((..)))))(((((((..)..).))(((.((((.(.(..))))).(((((((..))((.((..)))).)).)))))))))).))((..)).)).)((.((((..)))(.(..))))))).)))))))))))(((((..).(((..))(..))))))))((((..).).(((.((((..)(((..)))))))(((((((.(((..).))))(((..((..)))))))))))))))))..\n",
      "(((((((((..)..)((((.(((((((..))))((((((..(((((((..)((..)..)).).))))))((..))((((.(((...))))(((.(((.(.((.(((..)(((.((((((((((((.((.(..)))))))..)).).)))))))((((...)).))))((((..)((((((.(..))((((.((((..)))((...)))))(..))))))))))))((((..).(((..))(..))))))))))))))).)))))).).))(((((..))).)))))).)))))))(((.(((((((((((..)).))).).))))..))))\n",
      "(((((((((..)..)((((.(((((((..))))((((((..(((((((..)((..)..)).).))))))((..))((((.(((...))))(((.(((.(.((.(((((.(((.((((((((((((.((.(..)))))))..)).).)))))))((((...))).))))))((..((((((.(..))((((.((((..)))((...)))))(..)))))).)))))((((..).(((..))(..))))))))))))))).)))))).).))(((((..))).)))))).)))))))(((.(((((.(((((..)).)))...))))..))))\n",
      "(((.(.(((..)((.(((.((((((((..))))((((((((((((.(..))(((((..(((..((.(((.(..)).))(.(((.(..)))..)))))(((((..)(..)))((.(((((((((((((..)(.((..))))((((((((((..).))))).(((((..)).)))))))))))(((((..))).)((..)((((..)(((((...))(((((..)((..))(..).)))))))).)))).).)))))(((..).)))))))))))).)))..)).))).).)).).))))(..)))))))).))).))...\n",
      "(((((((((..)..)((((.(((((((..))))((((((..(((((((..)((..)..)).).))))))((..))((((.(((...))))(((.(((.(.((.(((..)(((.((((((((((((.((.(..)))))))..)).).)))))))((((...)).))))((((..)((((((.(..))((((.((((..)))((...)))))(..))))))))))))((((..).(((..))(..))))))))))))))).)))))).).))(((((..))).)))))).)))))))(((.(((((((((((..)).))).).))))..))))\n",
      "..(.((.(((.(((.(((.((((((((..))))((((((((((((.(..))(((((..(((..((.(((.(..)).))(.(((.(..)))..)))))(((((..)(..)))((.((((((((((((((.((.((..))).))((((((((..).))))).(((((..)).)))))))))))(((((..))).)((..)((((..)(((((...))(((((..)((..))(..).)))))))).)))).).)))))(((..).)))))))))))).)))..)).))).).)).).))))(..))))))).)))).)))..\n",
      "(((((((((..)..))(((.(((((..)).).))))(((..(((((((..)((..)..)).).)))))))((((..(((.(((...))))(.(((((((.((.(((((((.((((((((((((((.((.(..)))))))..)).).)))))(((((((..)((..))))(.((..))))..))))))(((.((((..)))((...)))))).))(((((...))(((((..).(((..))(..))))))))))))..))))))).))(..))(((..))))))))))).))))))(((.(((((((((((..)).))).).))))..))))\n",
      "(((((((((..)..)((((.(((((((..))))((((((..(((((((..)((..)..)).).))))))((..))((((.(((...))))(((.(((.(.((.((((.(((((((((((((((((.((.(..)))))))..)).).))))).).).)(..))).)))((((..)((((((.(..))((((.((((..)))((...)))))(..))))))))))))((((..).(((..))(..))))))))))))))).)))))).).))(((((..))).)))))).)))))))(((.(((((((((((..)).))).).))))..))))\n",
      "((((((((((((((((.(....)))((..))))(((((((..)(((((..)((..)..)).).)))(((.(..)).))).))))).))).)((((((((.((.(((((((.((((((((((((((.((.(..)))))))..)).).)))))((((((...)).)(((((((..)))).).))))))))((((..))((.(((...)))))))))(((((...))(((((..)((..))(..).))))))))))..))))))).))(((.((((..))).))).))))))))))(((((...)))).(((((..((...)))))).))..\n",
      "((((((((((((((((.(.(..(((((..))(((((((((..)).)...)))).))).)))).)))).)((..)).(((.(((.(..)))).)))))))))(((((..))((.((((((((((((.((.(..)))))))..)).).))))))))(((((((((..)).)(((((..))(((.(..))))((.((((..)))((...))))))))).((((...))(((((..).(((..))(..)))))))))).))(..))))((((((..)(((..))))))(..))).)))))(((.(((((((((((..)).))).).)))).).)))\n",
      "(((((((((..)..)((((.(((((((..))))((((((..(((((((..)((..)..)).).))))))((..))((((.(((...))))(((.(((((.((((((((.(((.((((((((((((.((.(..)))))))..)).).)))))))((((...)).)))))))((((...))).))))).)((((.((((..)))((...)))))).)).((((...))(((((..).(((..))(..))))))))))))))).)))))).).))(((((..))).)))))).)))))))(((.(((((((((((..)).))).).)))).).)))\n",
      "(((((((.((((((((.(....)))((..)))))))))((.((.(((((((((.((..)((..((.(((.(..)).))(.(((.(..)))..))))))).)))(..)).)).)))))((((((((.(((..).))))))(..).)))))).))))))(..)((((((((((((..)))((..))))(((((((.(..)((..)((((..(((((...))((((..)(((((...))(((((..)((..))(..).)))))))(((..)(((...))))))))))))))))))..).)))(..))))).))(..)))\n",
      "---------------\n",
      "((((((((.(...)..)((((..((((((..)).))(......((..(((((((..)((..)......)).)..))))))((..))....(.(((....)))).......((((.((.((((..((..((((((((((((.((.(..).......))))))...)).).))))).)(.((......))....)...........(...((..).(((....))).........)).(.(..))).((.((((...)))((.....)))))(..)(((((...))((...(((..).(((..).)(..)))))...)))))))...)))))))).).).((.(((..))).)))))).)))))))(((.((((((((((.(..))..))).).))))..))))\n",
      "Time to compute ACC : 5.6105s\n",
      "Memory used for ACC : 52.72852kb\n",
      "Time to compute matrix : 56.87321s\n",
      "Memory used for matrix : 1275.66211kb\n",
      "Time to compute traceback : 1517.39673s\n",
      "Memory used for traceback : 3851.05078kb\n"
     ]
    }
   ],
   "source": [
    "#Now compute Nussinov\n",
    "print(\"Nussinov pour chaque alignement :\")\n",
    "computation_list = [Nussinov.Simple_Nussinov(seq, m=2) for seq in alignment]\n",
    "for i, n in enumerate(computation_list):\n",
    "    print('='*int(i/len(computation_list)*10)+'-'*int((1-i/len(computation_list))*10), end='\\r')\n",
    "    n.Compute()\n",
    "    n.Compute_Traceback()\n",
    "structures = [n.structure for n in computation_list]\n",
    "for i in structures:\n",
    "    print(i)\n",
    "print(\"---------------\")\n",
    "computation_acc = Nussinov.Multiple_Nussinov(alignment, structures, m=2, method='MTA')\n",
    "tracemalloc.start()\n",
    "tracemalloc.clear_traces()\n",
    "t1 = time.process_time()\n",
    "computation_acc.ACC_Compute()\n",
    "t1 = time.process_time()-t1\n",
    "m1 = tracemalloc.get_traced_memory()[1]\n",
    "tracemalloc.clear_traces()\n",
    "t2 = time.process_time()\n",
    "computation_acc.Compute_Nussinov_ACC()\n",
    "t2 = time.process_time()-t2\n",
    "m2 = tracemalloc.get_traced_memory()[1]\n",
    "tracemalloc.clear_traces()\n",
    "t3 = time.process_time()\n",
    "computation_acc.Compute_Traceback()\n",
    "t3 = time.process_time()-t2\n",
    "m3 = tracemalloc.get_traced_memory()[1]\n",
    "tracemalloc.stop()\n",
    "print(computation_acc.structure)\n",
    "for s, t, m in [('ACC', t1, m1), ('matrix', t2, m2), ('traceback', t3, m3)]:\n",
    "    print(f\"Time to compute {s} : {round(t, 5)}s\")\n",
    "    print(f\"Memory used for {s} : {round(m/1024, 5)}kb\")"
   ]
  },
  {
   "cell_type": "code",
   "execution_count": 114,
   "metadata": {},
   "outputs": [
    {
     "name": "stdout",
     "output_type": "stream",
     "text": [
      "402\n"
     ]
    }
   ],
   "source": [
    "print(len(\"GGAUGUGA-GG-GUGAUCUGGCUGCGACAUCUG-UCA-CC--CCAUUGAUCGCCAGGGUUAAU----UUGGCU-GAUCUGGCUGGC-UAGGCGGGU-GUCCCCU--UCCUCCCUCACCGCUCCAUGUGCGUCCCUCCCGAAGCUGCAC-------GCUCGG-UGGAAGAGGAUGACA-UCC---CAGG--UAU-AGAA------GA--AGUGUACUGAGGUCUCCAG------UCUUUGGUCCCGGGUAUACGA-UAG-CUGC--GCUCUCUUGCUAGAACCUCCA---AACAAG--CUCAA-GGUCCAUUU---GUAGGAGA-ACGUAGGGUACUC-AG-A----------------------UAUUAUAGAAUUGU-ACUUU--CAGUUC-CUAUUAAUA\"))"
   ]
  },
  {
   "cell_type": "code",
   "execution_count": 11,
   "metadata": {},
   "outputs": [
    {
     "name": "stdout",
     "output_type": "stream",
     "text": [
      "990000\r"
     ]
    }
   ],
   "source": [
    "for i in range(1000000):\n",
    "    if i%10000==0: print(i, end='\\r')"
   ]
  },
  {
   "cell_type": "code",
   "execution_count": null,
   "metadata": {},
   "outputs": [],
   "source": []
  }
 ],
 "metadata": {
  "interpreter": {
   "hash": "11240e39b910d89ea70f7ff414c423c80f468e78f83d8e27f9291a27ec1c08c9"
  },
  "kernelspec": {
   "display_name": "Python 3.9.5 ('base')",
   "language": "python",
   "name": "python3"
  },
  "language_info": {
   "codemirror_mode": {
    "name": "ipython",
    "version": 3
   },
   "file_extension": ".py",
   "mimetype": "text/x-python",
   "name": "python",
   "nbconvert_exporter": "python",
   "pygments_lexer": "ipython3",
   "version": "3.9.5"
  },
  "orig_nbformat": 4
 },
 "nbformat": 4,
 "nbformat_minor": 2
}
